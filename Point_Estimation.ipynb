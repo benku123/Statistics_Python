{
 "cells": [
  {
   "cell_type": "markdown",
   "source": [
    "#Point Estimation"
   ],
   "metadata": {
    "collapsed": false,
    "pycharm": {
     "name": "#%% md\n"
    }
   }
  },
  {
   "cell_type": "code",
   "execution_count": 15,
   "outputs": [],
   "source": [
    "#importing Library\n",
    "import numpy as np\n",
    "import scipy.stats as stats\n",
    "import math\n",
    "import matplotlib.pyplot as plt"
   ],
   "metadata": {
    "collapsed": false,
    "pycharm": {
     "name": "#%%\n"
    }
   }
  },
  {
   "cell_type": "markdown",
   "source": [
    "##T Critical"
   ],
   "metadata": {
    "collapsed": false,
    "pycharm": {
     "name": "#%% md\n"
    }
   }
  },
  {
   "cell_type": "markdown",
   "source": [],
   "metadata": {
    "collapsed": false,
    "pycharm": {
     "name": "#%% md\n"
    }
   }
  },
  {
   "cell_type": "code",
   "execution_count": 11,
   "outputs": [
    {
     "data": {
      "text/plain": "42.97824"
     },
     "execution_count": 11,
     "metadata": {},
     "output_type": "execute_result"
    }
   ],
   "source": [
    "population = stats.poisson.rvs(loc=18, mu=25, size=100000)\n",
    "population.mean()"
   ],
   "metadata": {
    "collapsed": false,
    "pycharm": {
     "name": "#%%\n"
    }
   }
  },
  {
   "cell_type": "code",
   "execution_count": 6,
   "outputs": [
    {
     "data": {
      "text/plain": "43.72"
     },
     "execution_count": 6,
     "metadata": {},
     "output_type": "execute_result"
    }
   ],
   "source": [
    "\n",
    "sample1 = np.random.choice(a=population, size=25)\n",
    "sample1_mean = sample1.mean()\n",
    "sample1_mean"
   ],
   "metadata": {
    "collapsed": false,
    "pycharm": {
     "name": "#%%\n"
    }
   }
  },
  {
   "cell_type": "code",
   "execution_count": 7,
   "outputs": [
    {
     "data": {
      "text/plain": "2.0638985616280205"
     },
     "execution_count": 7,
     "metadata": {},
     "output_type": "execute_result"
    }
   ],
   "source": [
    "t_critical = stats.t.ppf(q=0.975, df=24)\n",
    "t_critical"
   ],
   "metadata": {
    "collapsed": false,
    "pycharm": {
     "name": "#%%\n"
    }
   }
  },
  {
   "cell_type": "code",
   "execution_count": 12,
   "outputs": [
    {
     "data": {
      "text/plain": "(41.68548030358133, 45.75451969641867)"
     },
     "execution_count": 12,
     "metadata": {},
     "output_type": "execute_result"
    }
   ],
   "source": [
    "sample_std = sample1.std(ddof=1)\n",
    "sigma = sample_std/math.sqrt(25)\n",
    "MoE = t_critical * sigma\n",
    "confidence_interval = (sample1_mean - MoE, sample1_mean + MoE)\n",
    "confidence_interval"
   ],
   "metadata": {
    "collapsed": false,
    "pycharm": {
     "name": "#%%\n"
    }
   }
  },
  {
   "cell_type": "markdown",
   "source": [
    "##Z Critical"
   ],
   "metadata": {
    "collapsed": false,
    "pycharm": {
     "name": "#%% md\n"
    }
   }
  },
  {
   "cell_type": "code",
   "execution_count": 9,
   "outputs": [
    {
     "data": {
      "text/plain": "(42.8542551487275, 43.4737448512725)"
     },
     "execution_count": 9,
     "metadata": {},
     "output_type": "execute_result"
    }
   ],
   "source": [
    "z_critical = stats.norm.ppf(q=0.975)\n",
    "sample3 = np.random.choice(a=population, size=1000)\n",
    "sample_mean = sample3.mean()\n",
    "population_std = population.std()\n",
    "MoE = z_critical * (population_std/math.sqrt(1000))\n",
    "confidence_interval = (sample_mean - MoE, sample_mean + MoE)\n",
    "confidence_interval"
   ],
   "metadata": {
    "collapsed": false,
    "pycharm": {
     "name": "#%%\n"
    }
   }
  },
  {
   "cell_type": "code",
   "execution_count": 17,
   "outputs": [
    {
     "data": {
      "text/plain": "[(42.71405410331018, 43.33394589668982),\n (42.66705410331018, 43.286945896689815),\n (43.00505410331018, 43.624945896689816),\n (42.44305410331018, 43.06294589668982),\n (42.31505410331018, 42.93494589668982),\n (42.74905410331018, 43.368945896689816),\n (42.689054103310184, 43.30894589668982),\n (42.42305410331018, 43.042945896689815),\n (42.94005410331018, 43.55994589668982),\n (42.90105410331018, 43.52094589668982),\n (42.71505410331018, 43.33494589668982),\n (42.66905410331018, 43.28894589668982),\n (42.61305410331018, 43.23294589668982),\n (42.78905410331018, 43.408945896689815),\n (42.59705410331018, 43.216945896689815),\n (42.47905410331018, 43.09894589668982),\n (42.77205410331018, 43.39194589668982),\n (42.72305410331018, 43.34294589668982),\n (42.58605410331018, 43.20594589668982),\n (42.94305410331018, 43.56294589668982),\n (42.74005410331018, 43.359945896689815),\n (42.582054103310185, 43.20194589668982),\n (42.53205410331018, 43.15194589668982),\n (42.783054103310185, 43.40294589668982),\n (42.59205410331018, 43.21194589668982)]"
     },
     "execution_count": 17,
     "metadata": {},
     "output_type": "execute_result"
    }
   ],
   "source": [
    "intervals = []\n",
    "sample_means = []\n",
    "for sample in range(25):\n",
    "  sample = np.random.choice(a=population,size=1000)\n",
    "  sample_mean = sample.mean()\n",
    "  sample_means.append(sample_mean)\n",
    "\n",
    "  z_critical = stats.norm.ppf(q=0.975)\n",
    "  population_std = population.std()\n",
    "  stats.norm.ppf(q=0.025)\n",
    "  MoE = z_critical * (population_std / math.sqrt(1000))\n",
    "  confi = sample_mean - MoE, sample_mean + MoE\n",
    "  intervals.append(confi)\n",
    "intervals"
   ],
   "metadata": {
    "collapsed": false,
    "pycharm": {
     "name": "#%%\n"
    }
   }
  },
  {
   "cell_type": "code",
   "execution_count": 16,
   "outputs": [
    {
     "data": {
      "text/plain": "<matplotlib.collections.LineCollection at 0x171bb815090>"
     },
     "execution_count": 16,
     "metadata": {},
     "output_type": "execute_result"
    },
    {
     "data": {
      "text/plain": "<Figure size 432x288 with 1 Axes>",
      "image/png": "[encoded data removed]"
     },
     "metadata": {
      "needs_background": "light"
     },
     "output_type": "display_data"
    }
   ],
   "source": [
    "plt.figure()\n",
    "plt.errorbar(x=np.arange(0.1,25,1),y=sample_means, yerr=[(top-bot+1)/2 for top, bot in intervals], fmt='o')\n",
    "plt.hlines(xmin=0, xmax=25, y = 43.0025, linewidth=2.0, color='red')"
   ],
   "metadata": {
    "collapsed": false,
    "pycharm": {
     "name": "#%%\n"
    }
   }
  }
 ],
 "metadata": {
  "kernelspec": {
   "display_name": "Python 3",
   "language": "python",
   "name": "python3"
  },
  "language_info": {
   "codemirror_mode": {
    "name": "ipython",
    "version": 2
   },
   "file_extension": ".py",
   "mimetype": "text/x-python",
   "name": "python",
   "nbconvert_exporter": "python",
   "pygments_lexer": "ipython2",
   "version": "2.7.6"
  }
 },
 "nbformat": 4,
 "nbformat_minor": 0
}